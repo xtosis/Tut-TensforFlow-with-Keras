{
 "cells": [
  {
   "cell_type": "code",
   "execution_count": 1,
   "metadata": {
    "ExecuteTime": {
     "end_time": "2019-09-25T04:32:24.156686Z",
     "start_time": "2019-09-25T04:32:22.661150Z"
    },
    "cell_style": "center"
   },
   "outputs": [
    {
     "name": "stdout",
     "output_type": "stream",
     "text": [
      "1.14.0\n"
     ]
    }
   ],
   "source": [
    "import warnings\n",
    "warnings.filterwarnings('ignore')\n",
    "\n",
    "import tensorflow as tf\n",
    "import tensorflow.keras as keras\n",
    "\n",
    "tf.logging.set_verbosity(tf.logging.ERROR)\n",
    "print(tf.__version__)"
   ]
  },
  {
   "cell_type": "markdown",
   "metadata": {},
   "source": [
    "## 1. Data Exploration: Inspecting the MNIST Dataset"
   ]
  },
  {
   "cell_type": "code",
   "execution_count": 2,
   "metadata": {
    "ExecuteTime": {
     "end_time": "2019-09-25T04:32:25.837270Z",
     "start_time": "2019-09-25T04:32:25.613340Z"
    }
   },
   "outputs": [],
   "source": [
    "# Importing the MNIST dataset from keras\n",
    "mnist = tf.keras.datasets.mnist\n",
    "(x_train, y_train),(x_test, y_test) = mnist.load_data()"
   ]
  },
  {
   "cell_type": "code",
   "execution_count": 3,
   "metadata": {
    "ExecuteTime": {
     "end_time": "2019-09-25T04:32:27.801638Z",
     "start_time": "2019-09-25T04:32:27.797642Z"
    }
   },
   "outputs": [
    {
     "name": "stdout",
     "output_type": "stream",
     "text": [
      "X Train: (60000, 28, 28)\n",
      "X Test:  (10000, 28, 28)\n",
      "Y Train: (60000,)\n",
      "X Test:  (10000,)\n"
     ]
    }
   ],
   "source": [
    "# Inspecting shapes\n",
    "print('X Train: {}'.format(x_train.shape))\n",
    "print('X Test:  {}'.format(x_test.shape))\n",
    "print('Y Train: {}'.format(y_train.shape))\n",
    "print('X Test:  {}'.format(y_test.shape))"
   ]
  },
  {
   "cell_type": "code",
   "execution_count": 4,
   "metadata": {
    "ExecuteTime": {
     "end_time": "2019-09-25T04:32:29.291152Z",
     "start_time": "2019-09-25T04:32:29.190186Z"
    }
   },
   "outputs": [
    {
     "name": "stdout",
     "output_type": "stream",
     "text": [
      "X Train min 0 max 255\n",
      "X Test  min 0 max 255\n",
      "Y Train min 0 max 9\n",
      "Y Test  min 0 max 9\n"
     ]
    }
   ],
   "source": [
    "# Inspecting min and max\n",
    "print('X Train min {} max {}'.format(x_train.min(), x_train.max()))\n",
    "print('X Test  min {} max {}'.format(x_test.min(), x_test.max()))\n",
    "print('Y Train min {} max {}'.format(y_train.min(), y_train.max()))\n",
    "print('Y Test  min {} max {}'.format(y_test.min(), y_test.max()))"
   ]
  },
  {
   "cell_type": "code",
   "execution_count": 5,
   "metadata": {
    "ExecuteTime": {
     "end_time": "2019-09-25T04:32:30.849786Z",
     "start_time": "2019-09-25T04:32:30.837779Z"
    }
   },
   "outputs": [
    {
     "name": "stdout",
     "output_type": "stream",
     "text": [
      "NumPy 1.17.2\n",
      "Pandas 0.23.4\n",
      "\n",
      "All classes present in both: True\n",
      "\n",
      "       train   test\n",
      "0   9.871667   9.80\n",
      "1  11.236667  11.35\n",
      "2   9.930000  10.32\n",
      "3  10.218333  10.10\n",
      "4   9.736667   9.82\n",
      "5   9.035000   8.92\n",
      "6   9.863333   9.58\n",
      "7  10.441667  10.28\n",
      "8   9.751667   9.74\n",
      "9   9.915000  10.09\n"
     ]
    }
   ],
   "source": [
    "# Inspecting class label distribution/skewness\n",
    "import numpy as np\n",
    "import pandas as pd\n",
    "\n",
    "print('NumPy', np.__version__)\n",
    "print('Pandas', pd.__version__)\n",
    "\n",
    "classes, counts = np.unique(y_train, return_counts=True)\n",
    "class_fd_train = dict(zip(classes, counts * 100 / y_train.shape[0]))\n",
    "classes, counts = np.unique(y_test, return_counts=True)\n",
    "class_fd_test = dict(zip(classes, counts * 100 / y_test.shape[0]))\n",
    "\n",
    "if class_fd_test.keys() == class_fd_train.keys():\n",
    "    print('\\nAll classes present in both: True', end='\\n\\n')\n",
    "    class_dist = {'train': [], 'test': []}\n",
    "    classes.sort()\n",
    "    for class_label in classes:\n",
    "        class_dist['train'].append(class_fd_train[class_label])\n",
    "        class_dist['test'].append(class_fd_test[class_label])\n",
    "    class_dist = pd.DataFrame(class_dist, index=classes)\n",
    "    print(class_dist)\n",
    "else:\n",
    "    print('All classes present in both: False')"
   ]
  },
  {
   "cell_type": "code",
   "execution_count": 6,
   "metadata": {
    "ExecuteTime": {
     "end_time": "2019-09-25T04:32:33.504686Z",
     "start_time": "2019-09-25T04:32:32.813906Z"
    },
    "scrolled": true
   },
   "outputs": [
    {
     "name": "stdout",
     "output_type": "stream",
     "text": [
      "3.0.2\n"
     ]
    },
    {
     "data": {
      "image/png": "[encoded data removed]",
      "text/plain": [
       "<Figure size 720x216 with 30 Axes>"
      ]
     },
     "metadata": {
      "needs_background": "light"
     },
     "output_type": "display_data"
    }
   ],
   "source": [
    "# Showing sample x_train images\n",
    "import matplotlib\n",
    "import matplotlib.pyplot as plt\n",
    "%matplotlib inline\n",
    "\n",
    "print(matplotlib.__version__)\n",
    "\n",
    "n_rows = 3\n",
    "fig, axs = plt.subplots(nrows=n_rows,\n",
    "                        ncols=len(classes), figsize=[10, n_rows])\n",
    "\n",
    "for col, class_label in enumerate(classes):\n",
    "    sample = np.where(y_train == class_label)[0]\n",
    "    for row in range(n_rows):\n",
    "        axs[row, col].imshow(x_train[sample[row]], cmap=plt.cm.Greys)\n",
    "        axs[row, col].axes.get_xaxis().set_visible(False)\n",
    "        axs[row, col].axes.get_yaxis().set_visible(False)\n",
    "        if row == 0:  # Show label on the title for first row only\n",
    "            axs[row, col].set_title('Class: {}'.format(class_label))\n",
    "\n",
    "plt.show()"
   ]
  },
  {
   "cell_type": "markdown",
   "metadata": {},
   "source": [
    "### Data Exploration Conlusions:\n",
    "1. 60k training and 10k testing samples\n",
    "2. X samples are 28x28 binary images of handwritten numbers\n",
    "3. Y samples are the labels for the handrwitten numbers and range between 0 to 9\n",
    "4. 784 numerical features ranging between 0 and 255\n",
    "5. 10 classes (0 through 9) that are equally distributed \n",
    "6. Multi-Class Classification Problem"
   ]
  },
  {
   "cell_type": "markdown",
   "metadata": {},
   "source": [
    "## 2. Preprocessing: Scaling\n",
    "Neural Networks accuracy is significantly improved when the input features are scaled. There are primarily two methods for scaling numerical data:\n",
    "* **Normalization**: scaling between 0 and 1\n",
    "* **Standardization**: scaling to obtain mean of 0 and standard deviation of 1\n",
    "\n",
    "We will be normalizing our data."
   ]
  },
  {
   "cell_type": "code",
   "execution_count": 7,
   "metadata": {
    "ExecuteTime": {
     "end_time": "2019-09-25T04:32:36.215820Z",
     "start_time": "2019-09-25T04:32:35.543034Z"
    }
   },
   "outputs": [
    {
     "name": "stdout",
     "output_type": "stream",
     "text": [
      "X Train min 0.0 max 1.0\n",
      "X Test  min 0.0 max 1.0\n"
     ]
    }
   ],
   "source": [
    "# Normalizing feature sets\n",
    "x_train_scaled = tf.keras.utils.normalize(x_train, axis=1)\n",
    "x_test_scaled = tf.keras.utils.normalize(x_test, axis=1)\n",
    "\n",
    "# Inspecting min and max\n",
    "print('X Train min {} max {}'.format(x_train_scaled.min(),\n",
    "                                     x_train_scaled.max()))\n",
    "print('X Test  min {} max {}'.format(x_test_scaled.min(),\n",
    "                                     x_test_scaled.max()))"
   ]
  },
  {
   "cell_type": "markdown",
   "metadata": {},
   "source": [
    "## 3. The Model"
   ]
  },
  {
   "cell_type": "markdown",
   "metadata": {
    "ExecuteTime": {
     "end_time": "2019-09-24T22:03:33.874216Z",
     "start_time": "2019-09-24T22:03:33.871229Z"
    }
   },
   "source": [
    "### 3.1 Model Architecture\n",
    "Every Artificial Neural Network model has the following layers:\n",
    "1. **Input Layer**: Single layer that takes the model inputs and flattens the input data if it comes in the form of a multi-dimentional matrix.\n",
    "    * Number of nodes same as number of input features\n",
    "\n",
    "\n",
    "2. **Hidden Layer**: All the layers between the input and the output layer.    \n",
    "    * Number of nodes (called *units* in TensorFlow) is a design parameter\n",
    "    * Number of hidden layers is a design parameter\n",
    "\n",
    "\n",
    "3. **Output Layer**: Single layer that the output is spat out at.\n",
    "    * Number of nodes depends on what kind of task the model is being trained for (Regression or Classification). The regression case is straight forward, the number of nodes is same as the number of numbers to predict and for Classification it depends but typically it is best to have as many as the number of class labels as that would yield confidence values for each class\n",
    "\n",
    "\n",
    "For our model we will have an input layer that will faltten the binary images (means 784 nodes) and then 2 fully-connected hidden layers, each with 128 nodes or *units*, followed bu the output layer which will be also a fully-connected layer with 10 nodes as we have 10 class labels.\n",
    "\n",
    "### 3.2 Defining The Layers\n",
    "We will be using 2 types of layers (there are **many** available to chose from in TensorFlow):\n",
    "1. `Flatten`: flattens a multidimentional array (e.g. 28x28 --> 1x784)\n",
    "\n",
    "2. `Dense`: fully-connected layer with the following *main* parameters:\n",
    "    * **units**: number of nods in the layer\n",
    "    * **activation**: the activation function of the nodes\n",
    "        - There are again **many** types of actication functions in TensorFlow but we will stick to the following:\n",
    "            - `relu`: Rectified linear for all hidden layers\n",
    "            - `softmax`: to generate a probability distribution at the output layer\n",
    "\n",
    "\n",
    "### 3.3 Training the model\n",
    "There are 4 important parameters that control model training:\n",
    "* **Optimizer**: The optimization algorithm used during back-propagation\n",
    "* **Loss**: The loss metric to minimize\n",
    "* **Epochs**: Number of times the model trains over the entire data set"
   ]
  },
  {
   "cell_type": "code",
   "execution_count": 8,
   "metadata": {
    "ExecuteTime": {
     "end_time": "2019-09-25T04:32:45.106120Z",
     "start_time": "2019-09-25T04:32:39.365956Z"
    }
   },
   "outputs": [
    {
     "name": "stdout",
     "output_type": "stream",
     "text": [
      "Epoch 1/3\n",
      "60000/60000 [==============================] - 2s 30us/sample - loss: 0.2654 - acc: 0.9228\n",
      "Epoch 2/3\n",
      "60000/60000 [==============================] - 2s 30us/sample - loss: 0.1123 - acc: 0.9651\n",
      "Epoch 3/3\n",
      "60000/60000 [==============================] - 2s 28us/sample - loss: 0.0757 - acc: 0.9765\n",
      "10000/10000 [==============================] - 0s 15us/sample - loss: 0.0941 - acc: 0.9699\n",
      "Loss:     0.09412358136596158\n",
      "Accuracy: 0.9699000120162964\n"
     ]
    }
   ],
   "source": [
    "# Model Architecture\n",
    "model = tf.keras.models.Sequential([\n",
    "\n",
    "    # Input layer\n",
    "    tf.keras.layers.Flatten(input_shape=(28, 28)),\n",
    "\n",
    "    # Hidden layers\n",
    "    tf.keras.layers.Dense(128, activation=tf.nn.relu),\n",
    "    tf.keras.layers.Dense(128, activation=tf.nn.relu),\n",
    "\n",
    "    # Output layer\n",
    "    tf.keras.layers.Dense(10, activation=tf.nn.softmax),\n",
    "\n",
    "])\n",
    "\n",
    "# Compiling the model\n",
    "model.compile(\n",
    "    optimizer='adam',  # One of the best opt algos\n",
    "    loss='sparse_categorical_crossentropy',  # Commonly used for clfs\n",
    "    metrics=['accuracy']  # This is the metric being watched **only**\n",
    ")\n",
    "\n",
    "# Training\n",
    "model.fit(x_train_scaled, y_train, epochs=3)\n",
    "\n",
    "# Testing\n",
    "loss, accuracy = model.evaluate(x_test_scaled, y_test)\n",
    "\n",
    "print('Loss:     {}'.format(loss))\n",
    "print('Accuracy: {}'.format(accuracy))"
   ]
  },
  {
   "cell_type": "markdown",
   "metadata": {},
   "source": [
    "### Saving and loading a model"
   ]
  },
  {
   "cell_type": "code",
   "execution_count": 9,
   "metadata": {
    "ExecuteTime": {
     "end_time": "2019-09-25T04:32:48.068367Z",
     "start_time": "2019-09-25T04:32:48.013369Z"
    }
   },
   "outputs": [],
   "source": [
    "model.save('data/models/MNIST_v1.model')"
   ]
  },
  {
   "cell_type": "code",
   "execution_count": 10,
   "metadata": {
    "ExecuteTime": {
     "end_time": "2019-09-25T04:32:50.335785Z",
     "start_time": "2019-09-25T04:32:49.997889Z"
    }
   },
   "outputs": [],
   "source": [
    "loaded_model = tf.keras.models.load_model('data/models/MNIST_v1.model')"
   ]
  },
  {
   "cell_type": "markdown",
   "metadata": {},
   "source": [
    "### Predicting with a loaded model"
   ]
  },
  {
   "cell_type": "code",
   "execution_count": 11,
   "metadata": {
    "ExecuteTime": {
     "end_time": "2019-09-25T04:32:54.025682Z",
     "start_time": "2019-09-25T04:32:53.885724Z"
    }
   },
   "outputs": [
    {
     "name": "stdout",
     "output_type": "stream",
     "text": [
      "Pred Raw:    (10000, 10)\n",
      "Pred Argmax: (10000,)\n",
      "\n",
      "              0             1             2             3             4  \\\n",
      "0  3.165697e-08  4.221981e-07  8.904408e-06  8.042196e-05  1.027812e-09   \n",
      "1  1.553164e-07  5.873868e-05  9.997144e-01  1.868432e-04  2.275137e-09   \n",
      "2  4.144831e-08  9.998747e-01  8.275867e-06  6.227418e-06  4.341443e-06   \n",
      "3  9.997724e-01  2.994624e-07  1.256942e-05  8.895321e-07  2.575425e-06   \n",
      "4  8.542951e-08  3.994572e-08  7.810487e-07  1.120714e-07  9.996219e-01   \n",
      "\n",
      "              5             6             7             8             9  pred  \\\n",
      "0  1.431809e-09  8.874992e-13  9.999098e-01  3.331815e-08  4.298265e-07     7   \n",
      "1  6.885416e-08  3.502012e-07  3.089832e-08  3.937167e-05  1.809567e-10     2   \n",
      "2  1.045552e-07  1.144854e-06  3.533137e-05  6.991196e-05  3.495114e-08     1   \n",
      "3  3.767867e-07  3.723729e-05  1.282651e-04  2.545352e-06  4.307285e-05     0   \n",
      "4  6.757273e-07  5.214998e-07  3.697682e-06  6.344563e-06  3.658466e-04     4   \n",
      "\n",
      "   correct  \n",
      "0     True  \n",
      "1     True  \n",
      "2     True  \n",
      "3     True  \n",
      "4     True  \n"
     ]
    }
   ],
   "source": [
    "# Getting raw predictions\n",
    "pred = loaded_model.predict(x_test_scaled)\n",
    "print('Pred Raw:   ', pred.shape)\n",
    "\n",
    "# Getting argmax of each row to get class label with best score\n",
    "predictions = np.argmax(pred, axis=1)\n",
    "print('Pred Argmax:', predictions.shape, end='\\n\\n')\n",
    "\n",
    "# Correct predictions\n",
    "correct = np.equal(predictions, y_test)\n",
    "\n",
    "# Creating dataframe\n",
    "pred = pd.DataFrame(pred, columns=range(10))\n",
    "predictions = pd.DataFrame({'pred': predictions, 'correct': correct})\n",
    "pred = pd.concat([pred, predictions], axis=1)\n",
    "\n",
    "# First 5 test samples\n",
    "print(pred.head())"
   ]
  },
  {
   "cell_type": "code",
   "execution_count": 12,
   "metadata": {
    "ExecuteTime": {
     "end_time": "2019-09-25T04:32:58.671179Z",
     "start_time": "2019-09-25T04:32:57.653505Z"
    }
   },
   "outputs": [
    {
     "data": {
      "image/png": "[encoded data removed]",
      "text/plain": [
       "<Figure size 720x360 with 50 Axes>"
      ]
     },
     "metadata": {
      "needs_background": "light"
     },
     "output_type": "display_data"
    }
   ],
   "source": [
    "n_rows = 5  # Minimum 3\n",
    "fig, axs = plt.subplots(nrows=n_rows,\n",
    "                        ncols=len(classes), figsize=[10, n_rows])\n",
    "\n",
    "for col, class_label in enumerate(classes):\n",
    "    sample = pred[pred['pred'] == class_label]\n",
    "    c = sample[sample['correct'] == True].iloc[:n_rows - 2, :]\n",
    "    n = sample[sample['correct'] == False].iloc[:2, :]\n",
    "    sample = pd.concat([c, n], axis=0)\n",
    "    for row in range(n_rows):\n",
    "        correct = sample.loc[sample.index[row], 'correct']\n",
    "        img = x_test[sample.index[row]]\n",
    "        if correct:\n",
    "            axs[row, col].imshow(img, cmap=plt.cm.Greens)\n",
    "        else:\n",
    "            axs[row, col].imshow(img, cmap=plt.cm.Reds)\n",
    "        axs[row, col].axes.get_xaxis().set_visible(False)\n",
    "        axs[row, col].axes.get_yaxis().set_visible(False)\n",
    "        if row == 0:\n",
    "            axs[row, col].set_title('Pred: {}'.format(class_label))\n",
    "\n",
    "plt.show()"
   ]
  }
 ],
 "metadata": {
  "hide_input": false,
  "kernelspec": {
   "display_name": "Python 3",
   "language": "python",
   "name": "python3"
  },
  "language_info": {
   "codemirror_mode": {
    "name": "ipython",
    "version": 3
   },
   "file_extension": ".py",
   "mimetype": "text/x-python",
   "name": "python",
   "nbconvert_exporter": "python",
   "pygments_lexer": "ipython3",
   "version": "3.7.0"
  }
 },
 "nbformat": 4,
 "nbformat_minor": 2
}
