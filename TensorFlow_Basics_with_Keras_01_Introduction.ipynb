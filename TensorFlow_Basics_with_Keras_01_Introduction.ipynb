{
 "cells": [
  {
   "cell_type": "code",
   "execution_count": 1,
   "metadata": {
    "ExecuteTime": {
     "end_time": "2019-09-24T21:43:11.812807Z",
     "start_time": "2019-09-24T21:43:10.318298Z"
    },
    "cell_style": "center"
   },
   "outputs": [
    {
     "name": "stdout",
     "output_type": "stream",
     "text": [
      "1.14.0\n"
     ]
    }
   ],
   "source": [
    "import warnings\n",
    "warnings.filterwarnings('ignore')\n",
    "\n",
    "import tensorflow as tf\n",
    "import tensorflow.keras as keras\n",
    "\n",
    "print(tf.__version__)"
   ]
  },
  {
   "cell_type": "markdown",
   "metadata": {},
   "source": [
    "## 1. Data Exploration: Inspecting the MNIST Dataset"
   ]
  },
  {
   "cell_type": "code",
   "execution_count": 2,
   "metadata": {
    "ExecuteTime": {
     "end_time": "2019-09-24T21:43:13.056410Z",
     "start_time": "2019-09-24T21:43:12.837479Z"
    }
   },
   "outputs": [],
   "source": [
    "# Importing the MNIST dataset from keras\n",
    "mnist = tf.keras.datasets.mnist\n",
    "(x_train, y_train),(x_test, y_test) = mnist.load_data()"
   ]
  },
  {
   "cell_type": "code",
   "execution_count": 3,
   "metadata": {
    "ExecuteTime": {
     "end_time": "2019-09-24T21:43:14.282070Z",
     "start_time": "2019-09-24T21:43:14.278078Z"
    }
   },
   "outputs": [
    {
     "name": "stdout",
     "output_type": "stream",
     "text": [
      "X Train: (60000, 28, 28)\n",
      "X Test:  (10000, 28, 28)\n",
      "Y Train: (60000,)\n",
      "X Test:  (10000,)\n"
     ]
    }
   ],
   "source": [
    "# Inspecting shapes\n",
    "print('X Train: {}'.format(x_train.shape))\n",
    "print('X Test:  {}'.format(x_test.shape))\n",
    "print('Y Train: {}'.format(y_train.shape))\n",
    "print('X Test:  {}'.format(y_test.shape))"
   ]
  },
  {
   "cell_type": "code",
   "execution_count": 4,
   "metadata": {
    "ExecuteTime": {
     "end_time": "2019-09-24T21:43:16.339621Z",
     "start_time": "2019-09-24T21:43:16.238637Z"
    }
   },
   "outputs": [
    {
     "name": "stdout",
     "output_type": "stream",
     "text": [
      "X Train min 0 max 255\n",
      "X Test  min 0 max 255\n",
      "Y Train min 0 max 9\n",
      "Y Test  min 0 max 9\n"
     ]
    }
   ],
   "source": [
    "# Inspecting min and max\n",
    "print('X Train min {} max {}'.format(x_train.min(), x_train.max()))\n",
    "print('X Test  min {} max {}'.format(x_test.min(), x_test.max()))\n",
    "print('Y Train min {} max {}'.format(y_train.min(), y_train.max()))\n",
    "print('Y Test  min {} max {}'.format(y_test.min(), y_test.max()))"
   ]
  },
  {
   "cell_type": "code",
   "execution_count": 5,
   "metadata": {
    "ExecuteTime": {
     "end_time": "2019-09-24T21:43:18.105164Z",
     "start_time": "2019-09-24T21:43:18.094155Z"
    }
   },
   "outputs": [
    {
     "name": "stdout",
     "output_type": "stream",
     "text": [
      "NumPy 1.17.2\n",
      "Pandas 0.23.4\n",
      "\n",
      "All classes present in both: True\n",
      "\n",
      "       train   test\n",
      "0   9.871667   9.80\n",
      "1  11.236667  11.35\n",
      "2   9.930000  10.32\n",
      "3  10.218333  10.10\n",
      "4   9.736667   9.82\n",
      "5   9.035000   8.92\n",
      "6   9.863333   9.58\n",
      "7  10.441667  10.28\n",
      "8   9.751667   9.74\n",
      "9   9.915000  10.09\n"
     ]
    }
   ],
   "source": [
    "# Inspecting class label distribution/skewness\n",
    "import numpy as np\n",
    "import pandas as pd\n",
    "\n",
    "print('NumPy', np.__version__)\n",
    "print('Pandas', pd.__version__)\n",
    "\n",
    "classes, counts = np.unique(y_train, return_counts=True)\n",
    "class_fd_train = dict(zip(classes, counts * 100 / y_train.shape[0]))\n",
    "classes, counts = np.unique(y_test, return_counts=True)\n",
    "class_fd_test = dict(zip(classes, counts * 100 / y_test.shape[0]))\n",
    "\n",
    "if class_fd_test.keys() == class_fd_train.keys():\n",
    "    print('\\nAll classes present in both: True', end='\\n\\n')\n",
    "    class_dist = {'train': [], 'test': []}\n",
    "    classes.sort()\n",
    "    for class_label in classes:\n",
    "        class_dist['train'].append(class_fd_train[class_label])\n",
    "        class_dist['test'].append(class_fd_test[class_label])\n",
    "    class_dist = pd.DataFrame(class_dist, index=classes)\n",
    "    print(class_dist)\n",
    "else:\n",
    "    print('All classes present in both: False')"
   ]
  },
  {
   "cell_type": "code",
   "execution_count": 6,
   "metadata": {
    "ExecuteTime": {
     "end_time": "2019-09-24T21:43:21.689354Z",
     "start_time": "2019-09-24T21:43:21.006568Z"
    },
    "scrolled": true
   },
   "outputs": [
    {
     "name": "stdout",
     "output_type": "stream",
     "text": [
      "3.0.2\n"
     ]
    },
    {
     "data": {
      "image/png": "[encoded data removed]",
      "text/plain": [
       "<Figure size 720x216 with 30 Axes>"
      ]
     },
     "metadata": {
      "needs_background": "light"
     },
     "output_type": "display_data"
    }
   ],
   "source": [
    "# Showing sample x_train images\n",
    "import matplotlib\n",
    "import matplotlib.pyplot as plt\n",
    "%matplotlib inline\n",
    "\n",
    "print(matplotlib.__version__)\n",
    "\n",
    "n_rows = 3\n",
    "fig, axs = plt.subplots(nrows=n_rows,\n",
    "                        ncols=len(classes), figsize=[10, n_rows])\n",
    "\n",
    "for col, class_label in enumerate(classes):\n",
    "    sample = np.where(y_train == class_label)[0]\n",
    "    for row in range(n_rows):\n",
    "        axs[row, col].imshow(x_train[sample[row]], cmap=plt.cm.Greys)\n",
    "        axs[row, col].axes.get_xaxis().set_visible(False)\n",
    "        axs[row, col].axes.get_yaxis().set_visible(False)\n",
    "        if row == 0:  # Show label on the title for first row only\n",
    "            axs[row, col].set_title('Class: {}'.format(class_label))\n",
    "\n",
    "plt.show()"
   ]
  },
  {
   "cell_type": "markdown",
   "metadata": {},
   "source": [
    "### Data Exploration Conlusions:\n",
    "1. 60k training and 10k testing samples\n",
    "2. X samples are 28x28 binary images of handwritten numbers\n",
    "3. Y samples are the labels for the handrwitten numbers and range between 0 to 9\n",
    "4. 784 numerical features ranging between 0 and 255\n",
    "5. 10 classes (0 through 9) that are equally distributed \n",
    "6. Multi-Class Classification Problem"
   ]
  },
  {
   "cell_type": "markdown",
   "metadata": {},
   "source": [
    "## 2. Preprocessing: Scaling\n",
    "Neural Networks accuracy is significantly improved when the input features are scaled. There are primarily two methods for scaling numerical data:\n",
    "* **Normalization**: scaling between 0 and 1\n",
    "* **Standardization**: scaling to obtain mean of 0 and standard deviation of 1\n",
    "\n",
    "We will be normalizing our data."
   ]
  },
  {
   "cell_type": "code",
   "execution_count": 8,
   "metadata": {
    "ExecuteTime": {
     "end_time": "2019-09-24T21:55:02.208749Z",
     "start_time": "2019-09-24T21:55:01.462988Z"
    }
   },
   "outputs": [
    {
     "name": "stdout",
     "output_type": "stream",
     "text": [
      "X Train min 0.0 max 1.0\n",
      "X Test  min 0.0 max 1.0\n"
     ]
    }
   ],
   "source": [
    "# Normalizing feature sets\n",
    "x_train_scaled = tf.keras.utils.normalize(x_train, axis=1)\n",
    "x_test_scaled = tf.keras.utils.normalize(x_test, axis=1)\n",
    "\n",
    "# Inspecting min and max\n",
    "print('X Train min {} max {}'.format(x_train_scaled.min(),\n",
    "                                     x_train_scaled.max()))\n",
    "print('X Test  min {} max {}'.format(x_test_scaled.min(),\n",
    "                                     x_test_scaled.max()))"
   ]
  },
  {
   "cell_type": "code",
   "execution_count": null,
   "metadata": {},
   "outputs": [],
   "source": []
  },
  {
   "cell_type": "code",
   "execution_count": null,
   "metadata": {},
   "outputs": [],
   "source": []
  }
 ],
 "metadata": {
  "hide_input": false,
  "kernelspec": {
   "display_name": "Python 3",
   "language": "python",
   "name": "python3"
  },
  "language_info": {
   "codemirror_mode": {
    "name": "ipython",
    "version": 3
   },
   "file_extension": ".py",
   "mimetype": "text/x-python",
   "name": "python",
   "nbconvert_exporter": "python",
   "pygments_lexer": "ipython3",
   "version": "3.7.0"
  }
 },
 "nbformat": 4,
 "nbformat_minor": 2
}
